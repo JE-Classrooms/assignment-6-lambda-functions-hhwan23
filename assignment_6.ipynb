{
 "cells": [
  {
   "cell_type": "markdown",
   "metadata": {},
   "source": [
    "# Assignment 6"
   ]
  },
  {
   "cell_type": "markdown",
   "metadata": {},
   "source": [
    "**Exercise 1:**  write a Python program to find palindromes in a given list of strings using Lambda.\n",
    "\n",
    "Apply the Python program for the following two lists:\n",
    "\n",
    "**Input 1:** ```['civic', 'Lambda', 'Python', 'QTM', 'Java', 'ana']```\n",
    "\n",
    "**Output 1:** ```['civic', 'ana']```\n",
    "\n",
    "**Input 2:** ```['nurses run', 'Nurses Run', 'madam', 'Stats', 'World', 'what']```\n",
    "\n",
    "**Output 2:** ```['nurses run', 'Nurses Run', 'madam', 'Stats']```"
   ]
  },
  {
   "cell_type": "code",
   "execution_count": 50,
   "metadata": {},
   "outputs": [
    {
     "name": "stdout",
     "output_type": "stream",
     "text": [
      "['civic', 'ana']\n",
      "['nurses run', 'Nurses Run', 'madam', 'Stats']\n"
     ]
    }
   ],
   "source": [
    "i = ['civic', 'Lambda', 'Python', 'QTM', 'Java', 'ana']\n",
    "i2 = ['nurses run', 'Nurses Run', 'madam', 'Stats', 'World', 'what']\n",
    "\n",
    "print(list(filter(lambda x: x==x[::-1], i)))\n",
    "print(list(filter(lambda x: (x.replace(' ','').lower()==x[::-1].replace(' ','').lower()), i2)))"
   ]
  },
  {
   "cell_type": "markdown",
   "metadata": {},
   "source": [
    "**Exercise 2:** write a Python program to calculate the sum of the positive and negative numbers of a given list of numbers using lambda function.\n",
    "\n",
    "**Output:**\n",
    "\n",
    "Original list: [2, 4, -6, -9, 11, -12, 14, -5, 17]\n",
    "\n",
    "Sum of the positive numbers:  -32\n",
    "\n",
    "Sum of the negative numbers:  48"
   ]
  },
  {
   "cell_type": "code",
   "execution_count": 52,
   "metadata": {},
   "outputs": [
    {
     "name": "stdout",
     "output_type": "stream",
     "text": [
      "Sum of the positive numbers: 48\n",
      "Sum of the negative numbers: -32\n"
     ]
    }
   ],
   "source": [
    "n = [2, 4, -6, -9, 11, -12, 14, -5, 17]\n",
    "\n",
    "pos = list(filter(lambda x: x > 0, n))\n",
    "neg = list(filter(lambda x: x < 0, n))\n",
    "\n",
    "print('Sum of the positive numbers:', sum(pos))\n",
    "print('Sum of the negative numbers:', sum(neg))"
   ]
  },
  {
   "cell_type": "markdown",
   "metadata": {},
   "source": [
    "**Exercise 3:** write a Python program to find the maximum, minimum and average values in a given heterogeneous list using lambda.\n",
    "\n",
    "**Output:**\n",
    "\n",
    "Original list: ['I', 'love' 3, 2, 4, 5, 'Python', 12]\n",
    "\n",
    "Maximum value: 12\n",
    "\n",
    "Minimum value: 2\n",
    "\n",
    "Average value: 5.2"
   ]
  },
  {
   "cell_type": "code",
   "execution_count": 56,
   "metadata": {},
   "outputs": [
    {
     "name": "stdout",
     "output_type": "stream",
     "text": [
      "Original list:  ['I', 'love', 3, 2, 4, 5, 'Python', 12]\n",
      "Maximum value:  12\n",
      "Minimum value:  2\n",
      "Average value: 5.2\n"
     ]
    }
   ],
   "source": [
    "c =  ['I', 'love', 3, 2, 4, 5, 'Python', 12]\n",
    "\n",
    "nums = list(filter(lambda x: type(x)==int, c))\n",
    "print('Original list: ',c)\n",
    "print('Maximum value: ',max(nums))\n",
    "print('Minimum value: ',min(nums))\n",
    "print('Average value:', sum(nums)/len(nums))"
   ]
  }
 ],
 "metadata": {
  "kernelspec": {
   "display_name": "conda_amazonei_mxnet_p36",
   "language": "python",
   "name": "conda_amazonei_mxnet_p36"
  },
  "language_info": {
   "codemirror_mode": {
    "name": "ipython",
    "version": 3
   },
   "file_extension": ".py",
   "mimetype": "text/x-python",
   "name": "python",
   "nbconvert_exporter": "python",
   "pygments_lexer": "ipython3",
   "version": "3.6.13"
  },
  "vscode": {
   "interpreter": {
    "hash": "9fbb33e86ca55080a202fed700efde3fb4ffe3f46131e5b52201b9ba06ce5f72"
   }
  }
 },
 "nbformat": 4,
 "nbformat_minor": 4
}
